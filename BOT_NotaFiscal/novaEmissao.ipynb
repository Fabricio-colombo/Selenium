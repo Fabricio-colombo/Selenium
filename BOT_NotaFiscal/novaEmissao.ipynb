{
 "cells": [
  {
   "cell_type": "code",
   "execution_count": 12,
   "metadata": {},
   "outputs": [],
   "source": [
    "#vamos criar uma automação web, onde o programa vai abrir um site que já está dentro do nosso computador\n",
    "#vai fazer login e senha e dar enter para entrar no site emissor de nota fiscal\n",
    "#vai preencher todos os campos solcitados e por fim vai dar um enter e emitir a nota fiscal\n",
    "#caminho do nosso arquivo > C:\\Users\\fabri\\OneDrive\\Documentos\\DESKTOP\\Selenium\\BOT_NotaFiscal"
   ]
  },
  {
   "cell_type": "code",
   "execution_count": 13,
   "metadata": {},
   "outputs": [],
   "source": [
    "from selenium import webdriver\n",
    "from selenium.webdriver.chrome.service import Service\n",
    "from webdriver_manager.chrome import ChromeDriverManager\n",
    "from selenium.webdriver.common.by import By\n",
    "import time\n",
    "\n",
    "options = webdriver.ChromeOptions()\n",
    "options.add_experimental_option(\"prefs\", {\n",
    "  \"download.default_directory\": r\"C:\\Users\\joaol\\downloads\",\n",
    "  \"download.prompt_for_download\": False,\n",
    "  \"download.directory_upgrade\": True,\n",
    "  \"safebrowsing.enabled\": True\n",
    "})\n",
    "\n",
    "servico = Service(ChromeDriverManager().install())\n",
    "navegador = webdriver.Chrome(service=servico, options=options)"
   ]
  },
  {
   "cell_type": "code",
   "execution_count": 14,
   "metadata": {},
   "outputs": [],
   "source": [
    "# entrar na página de login (no nosso caso é login.html)\n",
    "import os\n",
    "\n",
    "caminho = os.getcwd()\n",
    "arquivo = caminho + r\"\\login.html\"\n",
    "navegador.get(arquivo)"
   ]
  },
  {
   "cell_type": "code",
   "execution_count": 15,
   "metadata": {},
   "outputs": [],
   "source": [
    "#digitar o login no campo de login / xpath - /html/body/div/form/input[1]\n",
    "#demorar 2 segundos para fazer a ação\n",
    "time.sleep(2)\n",
    "navegador.find_element(By.XPATH, \"/html/body/div/form/input[1]\").send_keys(\"fabricio12345\")\n",
    "\n",
    "#demorar 2 segundos para fazer a ação\n",
    "time.sleep(2)\n",
    "#digitar a senha no campo de senha / xpath - /html/body/div/form/input[2]\n",
    "navegador.find_element(By.XPATH, \"/html/body/div/form/input[2]\").send_keys(\"12345\")\n",
    "\n",
    "#demorar 2 segundos para fazer a ação\n",
    "time.sleep(2)\n",
    "#apertar para clicar no login e entrar no sistema, xpath - /html/body/div/form/button\n",
    "navegador.find_element(By.XPATH, \"/html/body/div/form/button\").click()\n"
   ]
  },
  {
   "cell_type": "code",
   "execution_count": 16,
   "metadata": {},
   "outputs": [],
   "source": [
    "# AGORA VAMOS PREENCHER TODOS OS CAMPOS PARA EMITIR A NOTA FISCAL\n",
    "#demorar 2 segundos para fazer a ação\n",
    "time.sleep(2)\n",
    "# Nome/Razão Social - name - nome\n",
    "navegador.find_element(By.NAME, \"nome\").send_keys(\"FabricioTecnology LTDA\")\n",
    "time.sleep(2)\n",
    "# Endereço - name - endereco\n",
    "navegador.find_element(By.NAME, \"endereco\").send_keys(\"Rua dos bobos, 0\")\n",
    "time.sleep(2)\n",
    "# Bairro - name - bairro\n",
    "navegador.find_element(By.NAME, \"bairro\").send_keys(\"Centro\")\n",
    "time.sleep(2)\n",
    "# Município - name - municipio\n",
    "navegador.find_element(By.NAME, \"municipio\").send_keys(\"Biguaçu\")\n",
    "time.sleep(2)\n",
    "# CEP - name - cep\n",
    "navegador.find_element(By.NAME, \"cep\").send_keys(\"88160000\")\n",
    "time.sleep(2)\n",
    "# UF - name - uf\n",
    "navegador.find_element(By.NAME, \"uf\").send_keys(\"SC\")\n",
    "time.sleep(2)\n",
    "# CNPJ/CPF - name - cnpj\n",
    "navegador.find_element(By.NAME, \"cnpj\").send_keys(\"12345678912345\")\n",
    "time.sleep(2)\n",
    "# Inscrição estadual - name - inscricao\n",
    "navegador.find_element(By.NAME, \"inscricao\").send_keys(\"123456789\")\n",
    "time.sleep(2)\n",
    "#Descrição do produto/serviço - name - descricao\n",
    "navegador.find_element(By.NAME, \"descricao\").send_keys(\"Computador\")\n",
    "time.sleep(2)\n",
    "#Quantidade - name - quantidade\n",
    "navegador.find_element(By.NAME, \"quantidade\").send_keys(\"1\")\n",
    "time.sleep(2)\n",
    "#Valor unitário - name - valor_unitario\n",
    "navegador.find_element(By.NAME, \"valor_unitario\").send_keys(\"1000\")\n",
    "time.sleep(2)\n",
    "#Valor total - name - total\n",
    "navegador.find_element(By.NAME, \"total\").send_keys(\"1000\")\n",
    "time.sleep(2)"
   ]
  },
  {
   "cell_type": "code",
   "execution_count": 17,
   "metadata": {},
   "outputs": [],
   "source": [
    "#botão para clicar e emitir a nota fiscal\n",
    "# class - registerbtn\n",
    "navegador.find_element(By.CLASS_NAME, \"registerbtn\").click()\n",
    "\n"
   ]
  }
 ],
 "metadata": {
  "kernelspec": {
   "display_name": "Python 3",
   "language": "python",
   "name": "python3"
  },
  "language_info": {
   "codemirror_mode": {
    "name": "ipython",
    "version": 3
   },
   "file_extension": ".py",
   "mimetype": "text/x-python",
   "name": "python",
   "nbconvert_exporter": "python",
   "pygments_lexer": "ipython3",
   "version": "3.12.1"
  }
 },
 "nbformat": 4,
 "nbformat_minor": 2
}
